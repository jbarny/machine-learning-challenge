{
 "cells": [
  {
   "cell_type": "markdown",
   "metadata": {},
   "source": [
    "# Logistic Regression Model"
   ]
  },
  {
   "cell_type": "code",
   "execution_count": 1,
   "metadata": {},
   "outputs": [],
   "source": [
    "import pandas as pd\n",
    "\n",
    "# ML libraries\n",
    "from sklearn.model_selection import train_test_split\n",
    "from sklearn.preprocessing import MinMaxScaler\n",
    "from sklearn.model_selection import GridSearchCV\n",
    "from sklearn.linear_model import LogisticRegression\n",
    "\n",
    "import warnings \n",
    "warnings.filterwarnings(\"ignore\")"
   ]
  },
  {
   "cell_type": "markdown",
   "metadata": {},
   "source": [
    "### Read the CSV and Perform Basic Data Cleaning"
   ]
  },
  {
   "cell_type": "code",
   "execution_count": 2,
   "metadata": {},
   "outputs": [],
   "source": [
    "df = pd.read_csv(\"exoplanet_data.csv\")\n",
    "# Drop the null columns where all values are null\n",
    "df = df.dropna(axis='columns', how='all')\n",
    "# Drop the null rows\n",
    "df = df.dropna()"
   ]
  },
  {
   "cell_type": "code",
   "execution_count": 3,
   "metadata": {},
   "outputs": [],
   "source": [
    "# create a test train split\n",
    "y = df['koi_disposition']\n",
    "X = df.drop(columns=['koi_disposition'], axis=1)\n",
    "\n",
    "X_train, X_test, y_train, y_test = train_test_split(X, y, random_state=42, stratify=y)"
   ]
  },
  {
   "cell_type": "markdown",
   "metadata": {},
   "source": [
    "### Pre-Processing\n",
    "\n",
    "Scale the data using the MinMaxScaler and perform some feature selection"
   ]
  },
  {
   "cell_type": "code",
   "execution_count": 4,
   "metadata": {},
   "outputs": [],
   "source": [
    "# Scale your data\n",
    "X_scaler = MinMaxScaler().fit(X_train)\n",
    "\n",
    "X_train_scaled = X_scaler.transform(X_train)\n",
    "X_test_scaled = X_scaler.transform(X_test)"
   ]
  },
  {
   "cell_type": "markdown",
   "metadata": {},
   "source": [
    "### Train the Model"
   ]
  },
  {
   "cell_type": "code",
   "execution_count": 5,
   "metadata": {},
   "outputs": [
    {
     "data": {
      "text/plain": [
       "LogisticRegression(C=1.0, class_weight=None, dual=False, fit_intercept=True,\n",
       "                   intercept_scaling=1, l1_ratio=None, max_iter=100,\n",
       "                   multi_class='warn', n_jobs=None, penalty='l2',\n",
       "                   random_state=None, solver='warn', tol=0.0001, verbose=0,\n",
       "                   warm_start=False)"
      ]
     },
     "execution_count": 5,
     "metadata": {},
     "output_type": "execute_result"
    }
   ],
   "source": [
    "model_lr = LogisticRegression()\n",
    "model_lr.fit(X_train_scaled, y_train)"
   ]
  },
  {
   "cell_type": "code",
   "execution_count": 6,
   "metadata": {},
   "outputs": [
    {
     "name": "stdout",
     "output_type": "stream",
     "text": [
      "Training Data Score: 0.8456990272744612\n",
      "Testing Data Score: 0.8443935926773455\n"
     ]
    }
   ],
   "source": [
    "print(f\"Training Data Score: {model_lr.score(X_train_scaled, y_train)}\")\n",
    "print(f\"Testing Data Score: {model_lr.score(X_test_scaled, y_test)}\")"
   ]
  },
  {
   "cell_type": "markdown",
   "metadata": {},
   "source": [
    "### Hyperparameter Tuning\n",
    "\n",
    "Use `GridSearchCV` to tune the model's parameters"
   ]
  },
  {
   "cell_type": "code",
   "execution_count": 7,
   "metadata": {},
   "outputs": [],
   "source": [
    "param_grid_lr = {\n",
    "    'C': [750,1000,1250],\n",
    "    'penalty': ['l1','l2']}\n",
    "grid_lr = GridSearchCV(model_lr, param_grid_lr, verbose=3)"
   ]
  },
  {
   "cell_type": "code",
   "execution_count": 8,
   "metadata": {
    "collapsed": true
   },
   "outputs": [
    {
     "name": "stdout",
     "output_type": "stream",
     "text": [
      "Fitting 3 folds for each of 6 candidates, totalling 18 fits\n",
      "[CV] C=750, penalty=l1 ...............................................\n"
     ]
    },
    {
     "name": "stderr",
     "output_type": "stream",
     "text": [
      "[Parallel(n_jobs=1)]: Using backend SequentialBackend with 1 concurrent workers.\n"
     ]
    },
    {
     "name": "stdout",
     "output_type": "stream",
     "text": [
      "[CV] ................... C=750, penalty=l1, score=0.887, total=  40.4s\n",
      "[CV] C=750, penalty=l1 ...............................................\n"
     ]
    },
    {
     "name": "stderr",
     "output_type": "stream",
     "text": [
      "[Parallel(n_jobs=1)]: Done   1 out of   1 | elapsed:   40.3s remaining:    0.0s\n"
     ]
    },
    {
     "name": "stdout",
     "output_type": "stream",
     "text": [
      "[CV] ................... C=750, penalty=l1, score=0.875, total=  31.1s\n",
      "[CV] C=750, penalty=l1 ...............................................\n"
     ]
    },
    {
     "name": "stderr",
     "output_type": "stream",
     "text": [
      "[Parallel(n_jobs=1)]: Done   2 out of   2 | elapsed:  1.2min remaining:    0.0s\n"
     ]
    },
    {
     "name": "stdout",
     "output_type": "stream",
     "text": [
      "[CV] ................... C=750, penalty=l1, score=0.885, total=  19.3s\n",
      "[CV] C=750, penalty=l2 ...............................................\n",
      "[CV] ................... C=750, penalty=l2, score=0.882, total=   0.3s\n",
      "[CV] C=750, penalty=l2 ...............................................\n",
      "[CV] ................... C=750, penalty=l2, score=0.874, total=   0.3s\n",
      "[CV] C=750, penalty=l2 ...............................................\n",
      "[CV] ................... C=750, penalty=l2, score=0.883, total=   0.3s\n",
      "[CV] C=1000, penalty=l1 ..............................................\n",
      "[CV] .................. C=1000, penalty=l1, score=0.886, total=  34.9s\n",
      "[CV] C=1000, penalty=l1 ..............................................\n",
      "[CV] .................. C=1000, penalty=l1, score=0.875, total=  28.9s\n",
      "[CV] C=1000, penalty=l1 ..............................................\n",
      "[CV] .................. C=1000, penalty=l1, score=0.884, total=  22.3s\n",
      "[CV] C=1000, penalty=l2 ..............................................\n",
      "[CV] .................. C=1000, penalty=l2, score=0.881, total=   0.3s\n",
      "[CV] C=1000, penalty=l2 ..............................................\n",
      "[CV] .................. C=1000, penalty=l2, score=0.874, total=   0.3s\n",
      "[CV] C=1000, penalty=l2 ..............................................\n",
      "[CV] .................. C=1000, penalty=l2, score=0.883, total=   0.3s\n",
      "[CV] C=1250, penalty=l1 ..............................................\n",
      "[CV] .................. C=1250, penalty=l1, score=0.887, total=  21.3s\n",
      "[CV] C=1250, penalty=l1 ..............................................\n",
      "[CV] .................. C=1250, penalty=l1, score=0.875, total=  26.8s\n",
      "[CV] C=1250, penalty=l1 ..............................................\n",
      "[CV] .................. C=1250, penalty=l1, score=0.884, total=  29.2s\n",
      "[CV] C=1250, penalty=l2 ..............................................\n",
      "[CV] .................. C=1250, penalty=l2, score=0.881, total=   0.4s\n",
      "[CV] C=1250, penalty=l2 ..............................................\n",
      "[CV] .................. C=1250, penalty=l2, score=0.874, total=   0.3s\n",
      "[CV] C=1250, penalty=l2 ..............................................\n",
      "[CV] .................. C=1250, penalty=l2, score=0.884, total=   0.3s\n"
     ]
    },
    {
     "name": "stderr",
     "output_type": "stream",
     "text": [
      "[Parallel(n_jobs=1)]: Done  18 out of  18 | elapsed:  4.3min finished\n"
     ]
    },
    {
     "data": {
      "text/plain": [
       "GridSearchCV(cv='warn', error_score='raise-deprecating',\n",
       "             estimator=LogisticRegression(C=1.0, class_weight=None, dual=False,\n",
       "                                          fit_intercept=True,\n",
       "                                          intercept_scaling=1, l1_ratio=None,\n",
       "                                          max_iter=100, multi_class='warn',\n",
       "                                          n_jobs=None, penalty='l2',\n",
       "                                          random_state=None, solver='warn',\n",
       "                                          tol=0.0001, verbose=0,\n",
       "                                          warm_start=False),\n",
       "             iid='warn', n_jobs=None,\n",
       "             param_grid={'C': [750, 1000, 1250], 'penalty': ['l1', 'l2']},\n",
       "             pre_dispatch='2*n_jobs', refit=True, return_train_score=False,\n",
       "             scoring=None, verbose=3)"
      ]
     },
     "execution_count": 8,
     "metadata": {},
     "output_type": "execute_result"
    }
   ],
   "source": [
    "# Train the model with GridSearch\n",
    "grid_lr.fit(X_train_scaled, y_train)"
   ]
  },
  {
   "cell_type": "code",
   "execution_count": 9,
   "metadata": {},
   "outputs": [
    {
     "name": "stdout",
     "output_type": "stream",
     "text": [
      "{'C': 750, 'penalty': 'l1'}\n",
      "0.8821285523555217\n"
     ]
    }
   ],
   "source": [
    "print(grid_lr.best_params_)\n",
    "print(grid_lr.best_score_)"
   ]
  },
  {
   "cell_type": "code",
   "execution_count": 10,
   "metadata": {},
   "outputs": [
    {
     "name": "stdout",
     "output_type": "stream",
     "text": [
      "Training Data Score: 0.8842265878313943\n",
      "Testing Data Score: 0.8958810068649885\n"
     ]
    }
   ],
   "source": [
    "# retune original model with best params\n",
    "model_lr = LogisticRegression(C=1000, penalty='l1')\n",
    "model_lr.fit(X_train_scaled, y_train)\n",
    "\n",
    "print(f\"Training Data Score: {model_lr.score(X_train_scaled, y_train)}\")\n",
    "print(f\"Testing Data Score: {model_lr.score(X_test_scaled, y_test)}\")"
   ]
  }
 ],
 "metadata": {
  "kernelspec": {
   "display_name": "Python 3",
   "language": "python",
   "name": "python3"
  },
  "language_info": {
   "codemirror_mode": {
    "name": "ipython",
    "version": 3
   },
   "file_extension": ".py",
   "mimetype": "text/x-python",
   "name": "python",
   "nbconvert_exporter": "python",
   "pygments_lexer": "ipython3",
   "version": "3.7.4"
  }
 },
 "nbformat": 4,
 "nbformat_minor": 2
}
