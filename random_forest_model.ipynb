{
 "cells": [
  {
   "cell_type": "markdown",
   "metadata": {},
   "source": [
    "# Random Forest Model"
   ]
  },
  {
   "cell_type": "code",
   "execution_count": 1,
   "metadata": {},
   "outputs": [],
   "source": [
    "import pandas as pd\n",
    "\n",
    "# ML libraries\n",
    "from sklearn.model_selection import train_test_split\n",
    "from sklearn.preprocessing import MinMaxScaler\n",
    "from sklearn.model_selection import GridSearchCV\n",
    "from sklearn.ensemble import RandomForestClassifier\n",
    "\n",
    "import warnings \n",
    "warnings.filterwarnings(\"ignore\")"
   ]
  },
  {
   "cell_type": "markdown",
   "metadata": {},
   "source": [
    "### Read the CSV and Perform Basic Data Cleaning"
   ]
  },
  {
   "cell_type": "code",
   "execution_count": 2,
   "metadata": {},
   "outputs": [],
   "source": [
    "df = pd.read_csv(\"exoplanet_data.csv\")\n",
    "# Drop the null columns where all values are null\n",
    "df = df.dropna(axis='columns', how='all')\n",
    "# Drop the null rows\n",
    "df = df.dropna()"
   ]
  },
  {
   "cell_type": "code",
   "execution_count": 3,
   "metadata": {},
   "outputs": [],
   "source": [
    "# create a test train split\n",
    "y = df['koi_disposition']\n",
    "X = df.drop(columns=['koi_disposition'], axis=1)\n",
    "\n",
    "X_train, X_test, y_train, y_test = train_test_split(X, y, random_state=42, stratify=y)"
   ]
  },
  {
   "cell_type": "markdown",
   "metadata": {},
   "source": [
    "### Pre-Processing\n",
    "\n",
    "Scale the data using the MinMaxScaler and perform some feature selection"
   ]
  },
  {
   "cell_type": "code",
   "execution_count": 4,
   "metadata": {},
   "outputs": [],
   "source": [
    "# Scale your data\n",
    "X_scaler = MinMaxScaler().fit(X_train)\n",
    "\n",
    "X_train_scaled = X_scaler.transform(X_train)\n",
    "X_test_scaled = X_scaler.transform(X_test)"
   ]
  },
  {
   "cell_type": "markdown",
   "metadata": {},
   "source": [
    "### Train the Model"
   ]
  },
  {
   "cell_type": "code",
   "execution_count": 5,
   "metadata": {},
   "outputs": [
    {
     "data": {
      "text/plain": [
       "RandomForestClassifier(bootstrap=True, class_weight=None, criterion='gini',\n",
       "                       max_depth=None, max_features='auto', max_leaf_nodes=None,\n",
       "                       min_impurity_decrease=0.0, min_impurity_split=None,\n",
       "                       min_samples_leaf=1, min_samples_split=2,\n",
       "                       min_weight_fraction_leaf=0.0, n_estimators=10,\n",
       "                       n_jobs=None, oob_score=False, random_state=None,\n",
       "                       verbose=0, warm_start=False)"
      ]
     },
     "execution_count": 5,
     "metadata": {},
     "output_type": "execute_result"
    }
   ],
   "source": [
    "# create & train a random forest classifier\n",
    "model_rf = RandomForestClassifier()\n",
    "model_rf.fit(X_train_scaled, y_train)"
   ]
  },
  {
   "cell_type": "code",
   "execution_count": 6,
   "metadata": {},
   "outputs": [
    {
     "name": "stdout",
     "output_type": "stream",
     "text": [
      "Training Data Score: 0.9952317375548351\n",
      "Testing Data Score: 0.8867276887871853\n"
     ]
    }
   ],
   "source": [
    "print(f\"Training Data Score: {model_rf.score(X_train_scaled, y_train)}\")\n",
    "print(f\"Testing Data Score: {model_rf.score(X_test_scaled, y_test)}\")"
   ]
  },
  {
   "cell_type": "code",
   "execution_count": 7,
   "metadata": {
    "collapsed": true
   },
   "outputs": [
    {
     "data": {
      "text/plain": [
       "[(0.09727955950849897, 'koi_disposition'),\n",
       " (0.08018576775351446, 'koi_fpflag_ss'),\n",
       " (0.05982672719280262, 'koi_fpflag_nt'),\n",
       " (0.05527514444765769, 'koi_insol_err2'),\n",
       " (0.04925683106300732, 'koi_steff'),\n",
       " (0.048304853632665935, 'koi_duration'),\n",
       " (0.04607426066948789, 'koi_depth_err2'),\n",
       " (0.038448951607367624, 'koi_prad'),\n",
       " (0.03371498529871063, 'koi_duration_err1'),\n",
       " (0.03239214963497441, 'koi_fpflag_co'),\n",
       " (0.02991747638325009, 'koi_duration_err2'),\n",
       " (0.028061171441525867, 'koi_insol_err1'),\n",
       " (0.02651874225621989, 'koi_steff_err1'),\n",
       " (0.025468948617972376, 'koi_fpflag_ec'),\n",
       " (0.025275302066813506, 'koi_impact_err2'),\n",
       " (0.02406944594821836, 'koi_prad_err1'),\n",
       " (0.023649127263512267, 'koi_period'),\n",
       " (0.020763496160976856, 'koi_insol'),\n",
       " (0.01681611133966882, 'koi_time0bk_err2'),\n",
       " (0.01575533868202909, 'koi_time0bk'),\n",
       " (0.015252549664868576, 'koi_time0bk_err1'),\n",
       " (0.01462606325594352, 'koi_srad_err2'),\n",
       " (0.014496490002480041, 'koi_period_err2'),\n",
       " (0.014471023301300507, 'koi_period_err1'),\n",
       " (0.013846968624577825, 'koi_impact'),\n",
       " (0.01230217867863226, 'koi_impact_err1'),\n",
       " (0.012294096634420347, 'koi_depth_err1'),\n",
       " (0.012232363614049469, 'koi_srad'),\n",
       " (0.011994442018230658, 'koi_prad_err2'),\n",
       " (0.010979274611870093, 'koi_depth'),\n",
       " (0.010563495625624317, 'koi_slogg'),\n",
       " (0.010332777291247179, 'koi_slogg_err1'),\n",
       " (0.009944987216692765, 'ra'),\n",
       " (0.009904616869452357, 'koi_slogg_err2'),\n",
       " (0.009822484815037464, 'koi_tce_plnt_num'),\n",
       " (0.009801364128491863, 'koi_srad_err1'),\n",
       " (0.009760341400580906, 'koi_teq'),\n",
       " (0.009458176856106837, 'dec'),\n",
       " (0.00877071511248439, 'koi_steff_err2'),\n",
       " (0.002091199309033929, 'koi_model_snr')]"
      ]
     },
     "execution_count": 7,
     "metadata": {},
     "output_type": "execute_result"
    }
   ],
   "source": [
    "# test feature importances\n",
    "importances = model_rf.feature_importances_\n",
    "sorted(zip(importances, df.columns), reverse=True)"
   ]
  },
  {
   "cell_type": "markdown",
   "metadata": {},
   "source": [
    "### Hyperparameter Tuning\n",
    "\n",
    "Use `GridSearchCV` to tune the model's parameters"
   ]
  },
  {
   "cell_type": "code",
   "execution_count": 8,
   "metadata": {},
   "outputs": [],
   "source": [
    "param_grid_rf = {\n",
    "    'n_estimators': [50,75,100], \n",
    "    'max_depth': [100,125,150]}\n",
    "grid_rf = GridSearchCV(model_rf, param_grid_rf, verbose=0)"
   ]
  },
  {
   "cell_type": "code",
   "execution_count": 9,
   "metadata": {},
   "outputs": [
    {
     "data": {
      "text/plain": [
       "GridSearchCV(cv='warn', error_score='raise-deprecating',\n",
       "             estimator=RandomForestClassifier(bootstrap=True, class_weight=None,\n",
       "                                              criterion='gini', max_depth=None,\n",
       "                                              max_features='auto',\n",
       "                                              max_leaf_nodes=None,\n",
       "                                              min_impurity_decrease=0.0,\n",
       "                                              min_impurity_split=None,\n",
       "                                              min_samples_leaf=1,\n",
       "                                              min_samples_split=2,\n",
       "                                              min_weight_fraction_leaf=0.0,\n",
       "                                              n_estimators=10, n_jobs=None,\n",
       "                                              oob_score=False,\n",
       "                                              random_state=None, verbose=0,\n",
       "                                              warm_start=False),\n",
       "             iid='warn', n_jobs=None,\n",
       "             param_grid={'max_depth': [100, 125, 150],\n",
       "                         'n_estimators': [50, 75, 100]},\n",
       "             pre_dispatch='2*n_jobs', refit=True, return_train_score=False,\n",
       "             scoring=None, verbose=0)"
      ]
     },
     "execution_count": 9,
     "metadata": {},
     "output_type": "execute_result"
    }
   ],
   "source": [
    "# Train the model with GridSearch\n",
    "grid_rf.fit(X_train_scaled, y_train)"
   ]
  },
  {
   "cell_type": "code",
   "execution_count": 10,
   "metadata": {},
   "outputs": [
    {
     "name": "stdout",
     "output_type": "stream",
     "text": [
      "{'max_depth': 125, 'n_estimators': 100}\n",
      "0.8889948502765592\n"
     ]
    }
   ],
   "source": [
    "print(grid_rf.best_params_)\n",
    "print(grid_rf.best_score_)"
   ]
  },
  {
   "cell_type": "code",
   "execution_count": 11,
   "metadata": {},
   "outputs": [
    {
     "name": "stdout",
     "output_type": "stream",
     "text": [
      "Training Data Score: 0.9998092695021934\n",
      "Testing Data Score: 0.9038901601830663\n"
     ]
    }
   ],
   "source": [
    "# retune original model with best params\n",
    "model_rf = RandomForestClassifier(max_depth=100, n_estimators=50)\n",
    "model_rf.fit(X_train_scaled, y_train)\n",
    "\n",
    "print(f\"Training Data Score: {model_rf.score(X_train_scaled, y_train)}\")\n",
    "print(f\"Testing Data Score: {model_rf.score(X_test_scaled, y_test)}\")"
   ]
  }
 ],
 "metadata": {
  "kernel_info": {
   "name": "dev"
  },
  "kernelspec": {
   "display_name": "Python 3",
   "language": "python",
   "name": "python3"
  },
  "language_info": {
   "codemirror_mode": {
    "name": "ipython",
    "version": 3
   },
   "file_extension": ".py",
   "mimetype": "text/x-python",
   "name": "python",
   "nbconvert_exporter": "python",
   "pygments_lexer": "ipython3",
   "version": "3.7.4"
  },
  "nteract": {
   "version": "0.12.3"
  }
 },
 "nbformat": 4,
 "nbformat_minor": 2
}
